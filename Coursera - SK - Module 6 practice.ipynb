{
 "cells": [
  {
   "cell_type": "markdown",
   "id": "01443711-7997-45ac-91ca-b7be002f9024",
   "metadata": {},
   "source": [
    "SK - Coursera Module 6 Peer-graded assignment"
   ]
  },
  {
   "cell_type": "markdown",
   "id": "6b41a0b7-8e3d-40ad-8075-4e9bdb824f46",
   "metadata": {},
   "source": [
    "Intro:\n",
    "This document contains the answers for exercises 2 - 13 from module 6 of the Coursera IBM Data Science course."
   ]
  },
  {
   "cell_type": "markdown",
   "id": "e6e75c83-42fb-415c-9466-41dcef155fbb",
   "metadata": {},
   "source": [
    "The objectives are:\n",
    "- To understand the usage of Jupyter Notebook\n",
    "- To list some of the Data Science languages and Libraries\n",
    "- To understand the basics of Python coding\n",
    "- To familiarize yourself with the GitHub environment/website"
   ]
  },
  {
   "cell_type": "markdown",
   "id": "5cc1ad21-801d-4b16-9c6f-64047e555bdb",
   "metadata": {},
   "source": [
    "Popular Data Science Languages: \n",
    "1. Julia\r",
    "2. \n",
    "Python3. \r\n",
    "4. R\r\n",
    "S5. QL\r\n",
    "Sc6. ala\r\n",
    "7. Java\r\n",
    "JavaS8. cript\r\n",
    "C++"
   ]
  },
  {
   "cell_type": "markdown",
   "id": "a6aa372d-426b-4aa8-a2e3-d9df7b81e499",
   "metadata": {},
   "source": [
    "Data Science Libraries:\n",
    "1. Pandas\n",
    "2. NumPy\n",
    "3. Matplotlib\n",
    "4. SciPy\n",
    "5. scikit-learn\n",
    "6. TensorFlow\n",
    "7. Seaborn\n",
    "8. Keras"
   ]
  },
  {
   "cell_type": "markdown",
   "id": "08a0bd20-b076-4392-b06f-68b884eb57a9",
   "metadata": {},
   "source": [
    "| Data Science Tools | \n",
    "|----------|\n",
    "| Jupyter Notebook |\n",
    "|RStudio|\n",
    "| VS code | ode"
   ]
  },
  {
   "cell_type": "code",
   "execution_count": 2,
   "id": "21fb0c81-870b-4f96-ad87-2c5cbdc8e964",
   "metadata": {},
   "outputs": [
    {
     "data": {
      "text/plain": [
       "38"
      ]
     },
     "execution_count": 2,
     "metadata": {},
     "output_type": "execute_result"
    }
   ],
   "source": [
    "#multiply and add numbers\n",
    "3*8+14"
   ]
  },
  {
   "cell_type": "code",
   "execution_count": 3,
   "id": "3be1724e-8eb7-4892-9fc2-08503a4f7e25",
   "metadata": {},
   "outputs": [
    {
     "name": "stdin",
     "output_type": "stream",
     "text": [
      "Please enter the number of minutes:  156\n"
     ]
    },
    {
     "name": "stdout",
     "output_type": "stream",
     "text": [
      "156.0 minutes is equal to 2.6 hours\n"
     ]
    }
   ],
   "source": [
    "#converting minutes to hours\n",
    "def minutes_to_hours(minutes):\n",
    "    return minutes / 60\n",
    "#prompt\n",
    "minutes = float(input(\"Please enter the number of minutes: \"))\n",
    "hours = minutes_to_hours(minutes)\n",
    "print(f\"{minutes} minutes is equal to {hours} hours\")"
   ]
  },
  {
   "cell_type": "markdown",
   "id": "7897dcf0-69bc-4b42-b5fc-60a46203a5de",
   "metadata": {},
   "source": [
    "Author:\n",
    "Szczepan Kaluzny"
   ]
  }
 ],
 "metadata": {
  "kernelspec": {
   "display_name": "Python 3 (ipykernel)",
   "language": "python",
   "name": "python3"
  },
  "language_info": {
   "codemirror_mode": {
    "name": "ipython",
    "version": 3
   },
   "file_extension": ".py",
   "mimetype": "text/x-python",
   "name": "python",
   "nbconvert_exporter": "python",
   "pygments_lexer": "ipython3",
   "version": "3.12.4"
  }
 },
 "nbformat": 4,
 "nbformat_minor": 5
}
